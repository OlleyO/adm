{
  "nbformat": 4,
  "nbformat_minor": 0,
  "metadata": {
    "colab": {
      "name": "DM-LAB3.ipynb",
      "provenance": [],
      "collapsed_sections": []
    },
    "kernelspec": {
      "name": "python3",
      "display_name": "Python 3"
    }
  },
  "cells": [
    {
      "cell_type": "markdown",
      "metadata": {
        "id": "T7vUYmK-nP0_"
      },
      "source": [
        "# Лабораторна робота №3 з Видобування даних\n",
        "## Очищення даних\n",
        "### Мета роботи: навчитися базовому фунукціоналу pandas для обробки та підготовки даних до моделювання та використання"
      ]
    },
    {
      "cell_type": "markdown",
      "metadata": {
        "id": "hMkBHaEBoRL3"
      },
      "source": [
        "###1.[Завантажте набір даних у колаб](https://towardsdatascience.com/3-ways-to-load-csv-files-into-colab-7c14fcbdcb92), і у data frame "
      ]
    },
    {
      "cell_type": "code",
      "metadata": {
        "id": "3yAOJ4KDoc-U"
      },
      "source": [
        "### Code starts from here ###"
      ],
      "execution_count": null,
      "outputs": []
    },
    {
      "cell_type": "markdown",
      "metadata": {
        "id": "XnzrU-7Oocdd"
      },
      "source": [
        "###2.Видаліть ті колонки які вам не потрібні для подальшого аналізу, залишивши ті що ви вибрали в рамках 2 лабораторної роботи ( df.drop )\n"
      ]
    },
    {
      "cell_type": "code",
      "metadata": {
        "id": "qCbXc55toeq7"
      },
      "source": [
        ""
      ],
      "execution_count": null,
      "outputs": []
    },
    {
      "cell_type": "markdown",
      "metadata": {
        "id": "O-2VTbG_ofEC"
      },
      "source": [
        "###3.Скільки % записів у ваших колонках є пусті / null ? Вивдеіть для кожного стовпця відсоток таких записів (df.isnull) Якщо таких записів більше 50% - вартує видалити такий стовпець чи ні ? Якщо так - видаліть.\n",
        " "
      ]
    },
    {
      "cell_type": "code",
      "metadata": {
        "id": "nNNk6cxVogga"
      },
      "source": [
        ""
      ],
      "execution_count": null,
      "outputs": []
    },
    {
      "cell_type": "markdown",
      "metadata": {
        "id": "RE_GE7Nsogzr"
      },
      "source": [
        "\n",
        "###4.Перевірте свої записи на дублікати . Якщо такі є - це помилкові записи чи подібні але окремі ? (df.duplicated) Чи є у вас колонки з різними назвами але які містять одинакову інформацію ?\n"
      ]
    },
    {
      "cell_type": "code",
      "metadata": {
        "id": "mgnNuLE_oiAT"
      },
      "source": [
        ""
      ],
      "execution_count": null,
      "outputs": []
    },
    {
      "cell_type": "markdown",
      "metadata": {
        "id": "2vkcohsnoiHG"
      },
      "source": [
        "###5.Чи є у вас помилки у назвах колонок - якщо так виправте перейменувавши їх\n",
        "\n"
      ]
    },
    {
      "cell_type": "code",
      "metadata": {
        "id": "kx-D8FJ4ojiR"
      },
      "source": [
        ""
      ],
      "execution_count": null,
      "outputs": []
    },
    {
      "cell_type": "markdown",
      "metadata": {
        "id": "np7IITHeojql"
      },
      "source": [
        "###6.Перегляньти значення категорій якщо стовпці з такими даними є. Чи вони справді унікальні чи є помилкові дублікати ? ( приклади: model i Model , NA i NotAssesed, New-York i New York )\n",
        "\n",
        "\n"
      ]
    },
    {
      "cell_type": "code",
      "metadata": {
        "id": "vKbFUrg6olc6"
      },
      "source": [
        ""
      ],
      "execution_count": null,
      "outputs": []
    },
    {
      "cell_type": "markdown",
      "metadata": {
        "id": "wptzV3Iqoln8"
      },
      "source": [
        "###7. В рамках 2 лабораторної чи у вас в даних є [outliers](https://towardsdatascience.com/ways-to-detect-and-remove-the-outliers-404d16608dba) ? Якщо є - заберіть  той % або кількість яка у вашому випадку оптимальна\n"
      ]
    },
    {
      "cell_type": "code",
      "metadata": {
        "id": "BJq2iRaKonBJ"
      },
      "source": [
        ""
      ],
      "execution_count": null,
      "outputs": []
    },
    {
      "cell_type": "markdown",
      "metadata": {
        "id": "9JpplubIonJZ"
      },
      "source": [
        "###8.Чи є у вас колонки з непраивльними / пропущеними  значеннями ? Якщо так , тоді опрацюйте їх в [залежності від умови і типу даних](https://towardsdatascience.com/data-cleaning-with-python-and-pandas-detecting-missing-values-3e9c6ebcf78b)"
      ]
    },
    {
      "cell_type": "code",
      "metadata": {
        "id": "YtNE3V0konmj"
      },
      "source": [
        ""
      ],
      "execution_count": null,
      "outputs": []
    }
  ]
}